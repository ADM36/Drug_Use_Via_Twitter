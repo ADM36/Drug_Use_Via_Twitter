{
 "cells": [
  {
   "cell_type": "code",
   "execution_count": 1,
   "metadata": {},
   "outputs": [],
   "source": [
    "import pandas as pd\n",
    "from sklearn.svm import SVC\n",
    "from sklearn.feature_extraction.text import CountVectorizer\n",
    "from sklearn.feature_extraction.text import TfidfTransformer\n",
    "from sklearn.pipeline import Pipeline"
   ]
  },
  {
   "cell_type": "code",
   "execution_count": 2,
   "metadata": {},
   "outputs": [],
   "source": [
    "SVM_clfr = Pipeline([\n",
    "    ('vect', CountVectorizer()),\n",
    "    ('tfidf', TfidfTransformer()),\n",
    "    ('clfr', SVC(kernel='linear', class_weight='balanced'))\n",
    "    ])"
   ]
  },
  {
   "cell_type": "code",
   "execution_count": 10,
   "metadata": {},
   "outputs": [],
   "source": [
    "common_train = pd.read_csv('train-split.tsv', sep = '\\t')\n",
    "CodaLab_test = pd.read_csv('testDataST1_participants.tsv', sep = '\\t', header = None, names = ['tweet_id', 'user_id', 'tweet_text'])"
   ]
  },
  {
   "cell_type": "code",
   "execution_count": 13,
   "metadata": {},
   "outputs": [],
   "source": [
    "#fit model to training data\n",
    "SVM_clfr = SVM_clfr.fit(common_train['tweet_text'],common_train['adr_mention'])"
   ]
  },
  {
   "cell_type": "code",
   "execution_count": 14,
   "metadata": {},
   "outputs": [],
   "source": [
    "#predicting against CodaLab data\n",
    "predicted = SVM_clfr.predict(CodaLab_test['tweet_text'])"
   ]
  },
  {
   "cell_type": "code",
   "execution_count": 15,
   "metadata": {},
   "outputs": [],
   "source": [
    "CodaLab_test['predicted_label'] = predicted"
   ]
  },
  {
   "cell_type": "code",
   "execution_count": 17,
   "metadata": {},
   "outputs": [
    {
     "data": {
      "text/html": [
       "<div>\n",
       "<style scoped>\n",
       "    .dataframe tbody tr th:only-of-type {\n",
       "        vertical-align: middle;\n",
       "    }\n",
       "\n",
       "    .dataframe tbody tr th {\n",
       "        vertical-align: top;\n",
       "    }\n",
       "\n",
       "    .dataframe thead th {\n",
       "        text-align: right;\n",
       "    }\n",
       "</style>\n",
       "<table border=\"1\" class=\"dataframe\">\n",
       "  <thead>\n",
       "    <tr style=\"text-align: right;\">\n",
       "      <th></th>\n",
       "      <th>tweet_id</th>\n",
       "      <th>user_id</th>\n",
       "      <th>tweet_text</th>\n",
       "      <th>predicted_label</th>\n",
       "    </tr>\n",
       "  </thead>\n",
       "  <tbody>\n",
       "    <tr>\n",
       "      <th>0</th>\n",
       "      <td>1000023842624978947</td>\n",
       "      <td>l10001</td>\n",
       "      <td>@Judge7560 @Thoiser19 I have Valium I think th...</td>\n",
       "      <td>0</td>\n",
       "    </tr>\n",
       "    <tr>\n",
       "      <th>1</th>\n",
       "      <td>1000047079576752134</td>\n",
       "      <td>l10002</td>\n",
       "      <td>@_morphiine_ Happy to hear that Dr. Morphine!</td>\n",
       "      <td>0</td>\n",
       "    </tr>\n",
       "    <tr>\n",
       "      <th>2</th>\n",
       "      <td>1000099636223229952</td>\n",
       "      <td>l10003</td>\n",
       "      <td>@sam_vinograd @AshaRangappa_ @joshscampbell I'...</td>\n",
       "      <td>0</td>\n",
       "    </tr>\n",
       "    <tr>\n",
       "      <th>3</th>\n",
       "      <td>1000154793606832132</td>\n",
       "      <td>l10004</td>\n",
       "      <td>@DiegoMasca92 I had zero sleep on Tuesday nigh...</td>\n",
       "      <td>1</td>\n",
       "    </tr>\n",
       "    <tr>\n",
       "      <th>4</th>\n",
       "      <td>1000379544199626758</td>\n",
       "      <td>l10005</td>\n",
       "      <td>Whenever I vape in public people look at me as...</td>\n",
       "      <td>0</td>\n",
       "    </tr>\n",
       "  </tbody>\n",
       "</table>\n",
       "</div>"
      ],
      "text/plain": [
       "              tweet_id user_id  \\\n",
       "0  1000023842624978947  l10001   \n",
       "1  1000047079576752134  l10002   \n",
       "2  1000099636223229952  l10003   \n",
       "3  1000154793606832132  l10004   \n",
       "4  1000379544199626758  l10005   \n",
       "\n",
       "                                          tweet_text  predicted_label  \n",
       "0  @Judge7560 @Thoiser19 I have Valium I think th...                0  \n",
       "1      @_morphiine_ Happy to hear that Dr. Morphine!                0  \n",
       "2  @sam_vinograd @AshaRangappa_ @joshscampbell I'...                0  \n",
       "3  @DiegoMasca92 I had zero sleep on Tuesday nigh...                1  \n",
       "4  Whenever I vape in public people look at me as...                0  "
      ]
     },
     "execution_count": 17,
     "metadata": {},
     "output_type": "execute_result"
    }
   ],
   "source": [
    "CodaLab_test.head()"
   ]
  },
  {
   "cell_type": "code",
   "execution_count": 23,
   "metadata": {},
   "outputs": [],
   "source": [
    "Output = CodaLab_test[['tweet_id', 'user_id', 'predicted_label']]"
   ]
  },
  {
   "cell_type": "code",
   "execution_count": 28,
   "metadata": {},
   "outputs": [],
   "source": [
    "Output.to_csv('Bryans_SVM_output',header=False, index=False, sep='\\t')"
   ]
  },
  {
   "cell_type": "code",
   "execution_count": null,
   "metadata": {},
   "outputs": [],
   "source": []
  }
 ],
 "metadata": {
  "kernelspec": {
   "display_name": "Python 3",
   "language": "python",
   "name": "python3"
  },
  "language_info": {
   "codemirror_mode": {
    "name": "ipython",
    "version": 3
   },
   "file_extension": ".py",
   "mimetype": "text/x-python",
   "name": "python",
   "nbconvert_exporter": "python",
   "pygments_lexer": "ipython3",
   "version": "3.6.6"
  }
 },
 "nbformat": 4,
 "nbformat_minor": 2
}
