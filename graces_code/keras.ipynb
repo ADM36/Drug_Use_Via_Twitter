{
 "cells": [
  {
   "cell_type": "markdown",
   "metadata": {},
   "source": [
    "Followed the tutorial from this link: https://heartbeat.fritz.ai/using-a-keras-embedding-layer-to-handle-text-data-2c88dc019600"
   ]
  },
  {
   "cell_type": "markdown",
   "metadata": {},
   "source": [
    "How to set up tensorflow and Keras (Mac): https://www.youtube.com/watch?v=mcIKDJYeyFY\n",
    "\n",
    "How to set up tensorflow and Keras (Windows): https://www.youtube.com/watch?v=59duINoc8GM\n",
    "\n",
    "Twitter GloVe embeddings: https://www.kaggle.com/jdpaletto/glove-global-vectors-for-word-representation"
   ]
  },
  {
   "cell_type": "code",
   "execution_count": 1,
   "metadata": {},
   "outputs": [
    {
     "name": "stderr",
     "output_type": "stream",
     "text": [
      "Using TensorFlow backend.\n"
     ]
    }
   ],
   "source": [
    "import tensorflow as tf\n",
    "from numpy import array\n",
    "import numpy as np\n",
    "import pandas as pd\n",
    "import csv\n",
    "from keras.preprocessing.text import Tokenizer\n",
    "from keras.preprocessing.sequence import pad_sequences\n",
    "from keras.preprocessing.text import one_hot\n",
    "from sklearn.model_selection import train_test_split "
   ]
  },
  {
   "cell_type": "markdown",
   "metadata": {},
   "source": [
    "### 1) Load in our cleaned Twitter data."
   ]
  },
  {
   "cell_type": "code",
   "execution_count": 2,
   "metadata": {},
   "outputs": [
    {
     "data": {
      "text/html": [
       "<div>\n",
       "<style scoped>\n",
       "    .dataframe tbody tr th:only-of-type {\n",
       "        vertical-align: middle;\n",
       "    }\n",
       "\n",
       "    .dataframe tbody tr th {\n",
       "        vertical-align: top;\n",
       "    }\n",
       "\n",
       "    .dataframe thead th {\n",
       "        text-align: right;\n",
       "    }\n",
       "</style>\n",
       "<table border=\"1\" class=\"dataframe\">\n",
       "  <thead>\n",
       "    <tr style=\"text-align: right;\">\n",
       "      <th></th>\n",
       "      <th>0</th>\n",
       "      <th>1</th>\n",
       "    </tr>\n",
       "  </thead>\n",
       "  <tbody>\n",
       "    <tr>\n",
       "      <th>0</th>\n",
       "      <td>0</td>\n",
       "      <td>&lt;user&gt; doctor christian &lt;/user&gt; scared to star...</td>\n",
       "    </tr>\n",
       "    <tr>\n",
       "      <th>1</th>\n",
       "      <td>0</td>\n",
       "      <td>&lt;user&gt; intuitive gal 1 &lt;/user&gt; ok , if you sto...</td>\n",
       "    </tr>\n",
       "    <tr>\n",
       "      <th>2</th>\n",
       "      <td>0</td>\n",
       "      <td>novartis announces secukinumab ( ain 457 ) dem...</td>\n",
       "    </tr>\n",
       "    <tr>\n",
       "      <th>3</th>\n",
       "      <td>1</td>\n",
       "      <td>\" u wailed all night ; now y'r disembodied sob...</td>\n",
       "    </tr>\n",
       "    <tr>\n",
       "      <th>4</th>\n",
       "      <td>0</td>\n",
       "      <td>&lt;user&gt; ira paps &lt;/user&gt; you are so fucking sel...</td>\n",
       "    </tr>\n",
       "  </tbody>\n",
       "</table>\n",
       "</div>"
      ],
      "text/plain": [
       "   0                                                  1\n",
       "0  0  <user> doctor christian </user> scared to star...\n",
       "1  0  <user> intuitive gal 1 </user> ok , if you sto...\n",
       "2  0  novartis announces secukinumab ( ain 457 ) dem...\n",
       "3  1  \" u wailed all night ; now y'r disembodied sob...\n",
       "4  0  <user> ira paps </user> you are so fucking sel..."
      ]
     },
     "execution_count": 2,
     "metadata": {},
     "output_type": "execute_result"
    }
   ],
   "source": [
    "df = pd.read_csv('/Users/graceganzel/Desktop/School/LHS712/SMM4H/task1_training_cleaned.tsv', delimiter = '\\t', header = None)\n",
    "df.head()"
   ]
  },
  {
   "cell_type": "markdown",
   "metadata": {},
   "source": [
    "### 2) Split the data into train and test"
   ]
  },
  {
   "cell_type": "code",
   "execution_count": 3,
   "metadata": {},
   "outputs": [],
   "source": [
    "docs = df[1]\n",
    "labels = array(df[0])"
   ]
  },
  {
   "cell_type": "code",
   "execution_count": 4,
   "metadata": {},
   "outputs": [],
   "source": [
    "X_train, X_test, y_train, y_test = train_test_split(docs, labels, test_size = 0.33, random_state=42)"
   ]
  },
  {
   "cell_type": "markdown",
   "metadata": {},
   "source": [
    "### 3) Prepare our data\n",
    "\n",
    "> We will need to:\n",
    "> - Tokenize,\n",
    "> - Encode,\n",
    "> - And pad our data"
   ]
  },
  {
   "cell_type": "markdown",
   "metadata": {},
   "source": [
    "#### What is encoding and padding?"
   ]
  },
  {
   "cell_type": "markdown",
   "metadata": {},
   "source": [
    "> Machine learning models only accept numerical data. Therefore, we need to **encode** our data -> convert the words into series' of integers."
   ]
  },
  {
   "cell_type": "markdown",
   "metadata": {},
   "source": [
    "> In Keras, we usually want to pass arrays of integers of the same length. Thus, we **pad** our sequences -> add zeros to the beginning or end of each series of integers to make them the same length"
   ]
  },
  {
   "cell_type": "markdown",
   "metadata": {},
   "source": [
    "Here is what one of our tweets look like:"
   ]
  },
  {
   "cell_type": "code",
   "execution_count": 5,
   "metadata": {},
   "outputs": [
    {
     "name": "stdout",
     "output_type": "stream",
     "text": [
      "<user> intuitive gal 1 </user> ok , if you stopped taking the lamictal , give 90mg a week .\n"
     ]
    }
   ],
   "source": [
    "print(X_train[1])"
   ]
  },
  {
   "cell_type": "code",
   "execution_count": 6,
   "metadata": {},
   "outputs": [],
   "source": [
    "# obtain the vocabulary size to be used with one_hot encoding\n",
    "t = Tokenizer()\n",
    "\n",
    "tweets_lst = []\n",
    "for tweet in X_train:\n",
    "    tweets_lst.append(tweet)\n",
    "\n",
    "t.fit_on_texts(tweets_lst)\n",
    "vocab_size = len(t.word_index) + 1"
   ]
  },
  {
   "cell_type": "code",
   "execution_count": 7,
   "metadata": {},
   "outputs": [],
   "source": [
    "# encoding with one_hot\n",
    "X_train = [one_hot(tweet, vocab_size, filters='!\"#$%&()*+,-./:;=?@[\\]^_`{|}~', split=' ') for tweet in X_train]\n",
    "X_test = [one_hot(tweet, vocab_size, filters='!\"#$%&()*+,-./:;=?@[\\]^_`{|}~', split=' ') for tweet in X_test]"
   ]
  },
  {
   "cell_type": "markdown",
   "metadata": {},
   "source": [
    "This is what the tweet looks like after encoding:"
   ]
  },
  {
   "cell_type": "code",
   "execution_count": 8,
   "metadata": {},
   "outputs": [
    {
     "name": "stdout",
     "output_type": "stream",
     "text": [
      "[14162, 21838, 17273, 525, 9951, 18556, 20931, 7217, 9244, 10190, 20931, 13210, 17931, 21648, 4753, 19608, 20931, 21224, 7211, 14959, 3924, 19469, 17279, 13154, 8744]\n"
     ]
    }
   ],
   "source": [
    "print(X_train[1])"
   ]
  },
  {
   "cell_type": "code",
   "execution_count": 9,
   "metadata": {},
   "outputs": [],
   "source": [
    "# padding\n",
    "X_train = pad_sequences(X_train, maxlen=300, padding='pre')\n",
    "X_test = pad_sequences(X_test, maxlen=300, padding='pre')"
   ]
  },
  {
   "cell_type": "markdown",
   "metadata": {},
   "source": [
    "And this is what the tweet looks like after padding:"
   ]
  },
  {
   "cell_type": "code",
   "execution_count": 10,
   "metadata": {},
   "outputs": [
    {
     "name": "stdout",
     "output_type": "stream",
     "text": [
      "[    0     0     0     0     0     0     0     0     0     0     0     0\n",
      "     0     0     0     0     0     0     0     0     0     0     0     0\n",
      "     0     0     0     0     0     0     0     0     0     0     0     0\n",
      "     0     0     0     0     0     0     0     0     0     0     0     0\n",
      "     0     0     0     0     0     0     0     0     0     0     0     0\n",
      "     0     0     0     0     0     0     0     0     0     0     0     0\n",
      "     0     0     0     0     0     0     0     0     0     0     0     0\n",
      "     0     0     0     0     0     0     0     0     0     0     0     0\n",
      "     0     0     0     0     0     0     0     0     0     0     0     0\n",
      "     0     0     0     0     0     0     0     0     0     0     0     0\n",
      "     0     0     0     0     0     0     0     0     0     0     0     0\n",
      "     0     0     0     0     0     0     0     0     0     0     0     0\n",
      "     0     0     0     0     0     0     0     0     0     0     0     0\n",
      "     0     0     0     0     0     0     0     0     0     0     0     0\n",
      "     0     0     0     0     0     0     0     0     0     0     0     0\n",
      "     0     0     0     0     0     0     0     0     0     0     0     0\n",
      "     0     0     0     0     0     0     0     0     0     0     0     0\n",
      "     0     0     0     0     0     0     0     0     0     0     0     0\n",
      "     0     0     0     0     0     0     0     0     0     0     0     0\n",
      "     0     0     0     0     0     0     0     0     0     0     0     0\n",
      "     0     0     0     0     0     0     0     0     0     0     0     0\n",
      "     0     0     0     0     0     0     0     0     0     0     0     0\n",
      "     0     0     0     0     0     0     0     0     0     0     0 14162\n",
      " 21838 17273   525  9951 18556 20931  7217  9244 10190 20931 13210 17931\n",
      " 21648  4753 19608 20931 21224  7211 14959  3924 19469 17279 13154  8744]\n"
     ]
    }
   ],
   "source": [
    "print(X_train[1])"
   ]
  },
  {
   "cell_type": "markdown",
   "metadata": {},
   "source": [
    "### 4) Load in the pre-trained GloVe embeddings\n",
    "\n",
    "This step takes a bit of time."
   ]
  },
  {
   "cell_type": "code",
   "execution_count": 12,
   "metadata": {},
   "outputs": [],
   "source": [
    "embeddings_index = dict()\n",
    "f = open('/Users/graceganzel/Desktop/School/LHS712/SMM4H/Pokee/graces_code/glove.twitter.27B.50d.txt')\n",
    "\n",
    "for line in f:\n",
    "    values = line.split()\n",
    "    word = values[0]\n",
    "    coefs = np.asarray(values[1:], dtype='float32')\n",
    "    embeddings_index[word] = coefs\n",
    "\n",
    "f.close()"
   ]
  },
  {
   "cell_type": "markdown",
   "metadata": {},
   "source": [
    "### 5) Create an embedding matrix"
   ]
  },
  {
   "cell_type": "code",
   "execution_count": 13,
   "metadata": {},
   "outputs": [],
   "source": [
    "embedding_matrix = np.zeros((vocab_size, 50)) # use 50 because our vectors are of dimension 50\n",
    "\n",
    "for word, i in t.word_index.items():\n",
    "    embedding_vector = embeddings_index.get(word) # get the vector from our pretrained glove embeddings\n",
    "    if embedding_vector is not None:\n",
    "        embedding_matrix[i] = embedding_vector # insert that into our matrix"
   ]
  },
  {
   "cell_type": "markdown",
   "metadata": {},
   "source": [
    "### 6) Build and compile our model"
   ]
  },
  {
   "cell_type": "markdown",
   "metadata": {},
   "source": [
    ">I created a model that had 3 types of layers:\n",
    "> - **Embedding layer:** will take our padded sequences and turn them into vectors using the weights from our GloVe embeddings\n",
    "> - **Flatten layer:** the output of our embedding layer must be flattened before being passed to the dense layer\n",
    "> - **Dense layer:** a classic neural network layer"
   ]
  },
  {
   "cell_type": "code",
   "execution_count": 14,
   "metadata": {},
   "outputs": [],
   "source": [
    "model = tf.keras.models.Sequential() # initialize the neural network\n",
    "model.add(tf.keras.layers.Embedding(vocab_size, 50, weights=[embedding_matrix], input_length=300 , trainable=False))\n",
    "model.add(tf.keras.layers.Flatten())\n",
    "model.add(tf.keras.layers.Dense(10, activation='relu'))\n",
    "model.add(tf.keras.layers.Dense(1, activation='sigmoid'))"
   ]
  },
  {
   "cell_type": "markdown",
   "metadata": {},
   "source": [
    "After making our model we must compile it:"
   ]
  },
  {
   "cell_type": "code",
   "execution_count": 15,
   "metadata": {},
   "outputs": [],
   "source": [
    "model.compile(optimizer='adam', loss='binary_crossentropy', metrics=['accuracy'])"
   ]
  },
  {
   "cell_type": "code",
   "execution_count": 16,
   "metadata": {
    "scrolled": true
   },
   "outputs": [
    {
     "name": "stdout",
     "output_type": "stream",
     "text": [
      "_________________________________________________________________\n",
      "Layer (type)                 Output Shape              Param #   \n",
      "=================================================================\n",
      "embedding (Embedding)        (None, 300, 50)           1094150   \n",
      "_________________________________________________________________\n",
      "flatten (Flatten)            (None, 15000)             0         \n",
      "_________________________________________________________________\n",
      "dense (Dense)                (None, 10)                150010    \n",
      "_________________________________________________________________\n",
      "dense_1 (Dense)              (None, 1)                 11        \n",
      "=================================================================\n",
      "Total params: 1,244,171\n",
      "Trainable params: 150,021\n",
      "Non-trainable params: 1,094,150\n",
      "_________________________________________________________________\n",
      "None\n"
     ]
    }
   ],
   "source": [
    "print(model.summary())"
   ]
  },
  {
   "cell_type": "markdown",
   "metadata": {},
   "source": [
    "### 7) Fit our model to our train data and print out some results"
   ]
  },
  {
   "cell_type": "code",
   "execution_count": 17,
   "metadata": {},
   "outputs": [
    {
     "name": "stdout",
     "output_type": "stream",
     "text": [
      "Epoch 1/20\n",
      "10888/10888 [==============================] - 2s 198us/step - loss: 0.3087 - acc: 0.9141\n",
      "Epoch 2/20\n",
      "10888/10888 [==============================] - 2s 147us/step - loss: 0.2632 - acc: 0.9159\n",
      "Epoch 3/20\n",
      "10888/10888 [==============================] - 2s 154us/step - loss: 0.2431 - acc: 0.9163\n",
      "Epoch 4/20\n",
      "10888/10888 [==============================] - 2s 150us/step - loss: 0.2225 - acc: 0.9199\n",
      "Epoch 5/20\n",
      "10888/10888 [==============================] - 2s 147us/step - loss: 0.2030 - acc: 0.9242\n",
      "Epoch 6/20\n",
      "10888/10888 [==============================] - 2s 150us/step - loss: 0.1815 - acc: 0.9302\n",
      "Epoch 7/20\n",
      "10888/10888 [==============================] - 2s 150us/step - loss: 0.1604 - acc: 0.9352\n",
      "Epoch 8/20\n",
      "10888/10888 [==============================] - 2s 150us/step - loss: 0.1414 - acc: 0.9398\n",
      "Epoch 9/20\n",
      "10888/10888 [==============================] - 2s 169us/step - loss: 0.1257 - acc: 0.9425\n",
      "Epoch 10/20\n",
      "10888/10888 [==============================] - 2s 153us/step - loss: 0.1104 - acc: 0.9445\n",
      "Epoch 11/20\n",
      "10888/10888 [==============================] - 2s 147us/step - loss: 0.0976 - acc: 0.9590\n",
      "Epoch 12/20\n",
      "10888/10888 [==============================] - 2s 157us/step - loss: 0.0866 - acc: 0.9656\n",
      "Epoch 13/20\n",
      "10888/10888 [==============================] - 2s 156us/step - loss: 0.0771 - acc: 0.9734\n",
      "Epoch 14/20\n",
      "10888/10888 [==============================] - 2s 154us/step - loss: 0.0674 - acc: 0.9780\n",
      "Epoch 15/20\n",
      "10888/10888 [==============================] - 2s 151us/step - loss: 0.0585 - acc: 0.9831\n",
      "Epoch 16/20\n",
      "10888/10888 [==============================] - 2s 178us/step - loss: 0.0505 - acc: 0.9871\n",
      "Epoch 17/20\n",
      "10888/10888 [==============================] - 2s 181us/step - loss: 0.0431 - acc: 0.9912\n",
      "Epoch 18/20\n",
      "10888/10888 [==============================] - 2s 154us/step - loss: 0.0375 - acc: 0.9931\n",
      "Epoch 19/20\n",
      "10888/10888 [==============================] - 2s 157us/step - loss: 0.0331 - acc: 0.9949\n",
      "Epoch 20/20\n",
      "10888/10888 [==============================] - 2s 157us/step - loss: 0.0284 - acc: 0.9957\n"
     ]
    },
    {
     "data": {
      "text/plain": [
       "<tensorflow.python.keras.callbacks.History at 0x1a45515ba8>"
      ]
     },
     "execution_count": 17,
     "metadata": {},
     "output_type": "execute_result"
    }
   ],
   "source": [
    "model.fit(X_train, y_train, epochs=20, verbose=1)"
   ]
  },
  {
   "cell_type": "code",
   "execution_count": 19,
   "metadata": {},
   "outputs": [
    {
     "name": "stdout",
     "output_type": "stream",
     "text": [
      "Training Accuracy: 0.9979\n",
      "Testing Accuracy:  0.8758\n"
     ]
    }
   ],
   "source": [
    "loss, accuracy = model.evaluate(X_train, y_train, verbose=False)\n",
    "print(\"Training Accuracy: {:.4f}\".format(accuracy))\n",
    "loss, accuracy = model.evaluate(X_test, y_test, verbose=False)\n",
    "print(\"Testing Accuracy:  {:.4f}\".format(accuracy))"
   ]
  },
  {
   "cell_type": "code",
   "execution_count": 39,
   "metadata": {},
   "outputs": [],
   "source": [
    "import matplotlib.pyplot as plt\n",
    "plt.style.use('ggplot')\n",
    "\n",
    "def plot_history(history):\n",
    "    acc = history.history['acc']\n",
    "    val_acc = history.history['val_acc']\n",
    "    loss = history.history['loss']\n",
    "    val_loss = history.history['val_loss']\n",
    "    x = range(1, len(acc) + 1)\n",
    "\n",
    "    plt.figure(figsize=(12, 5))\n",
    "    plt.subplot(1, 2, 1)\n",
    "    plt.plot(x, acc, 'b', label='Training acc')\n",
    "    plt.plot(x, val_acc, 'r', label='Validation acc')\n",
    "    plt.title('Training and validation accuracy')\n",
    "    plt.legend()\n",
    "    plt.subplot(1, 2, 2)\n",
    "    plt.plot(x, loss, 'b', label='Training loss')\n",
    "    plt.plot(x, val_loss, 'r', label='Validation loss')\n",
    "    plt.title('Training and validation loss')\n",
    "    plt.legend()"
   ]
  },
  {
   "cell_type": "code",
   "execution_count": 40,
   "metadata": {},
   "outputs": [
    {
     "name": "stdout",
     "output_type": "stream",
     "text": [
      "Training Accuracy: 0.9990\n",
      "Testing Accuracy:  0.8423\n"
     ]
    },
    {
     "data": {
      "image/png": "[encoded data removed]",
      "text/plain": [
       "<Figure size 864x360 with 2 Axes>"
      ]
     },
     "metadata": {
      "needs_background": "light"
     },
     "output_type": "display_data"
    }
   ],
   "source": [
    "history = model.fit(X_train, y_train,\n",
    "                    epochs=50,\n",
    "                    verbose=False,\n",
    "                    validation_data=(X_test, y_test),\n",
    "                    batch_size=10)\n",
    "loss, accuracy = model.evaluate(X_train, y_train, verbose=False)\n",
    "print(\"Training Accuracy: {:.4f}\".format(accuracy))\n",
    "loss, accuracy = model.evaluate(X_test, y_test, verbose=False)\n",
    "print(\"Testing Accuracy:  {:.4f}\".format(accuracy))\n",
    "plot_history(history)"
   ]
  },
  {
   "cell_type": "markdown",
   "metadata": {},
   "source": [
    "### 8) Going to attempt LSTM"
   ]
  },
  {
   "cell_type": "markdown",
   "metadata": {},
   "source": [
    "> Will need 5 types of layers\n",
    "> - Embedding\n",
    "> - Flatten\n",
    "> - Dense\n",
    "> - LSTM\n",
    "> - Dropout"
   ]
  },
  {
   "cell_type": "code",
   "execution_count": null,
   "metadata": {},
   "outputs": [],
   "source": [
    "from keras.layers import LSTM\n",
    "from keras.layers import Dropout\n",
    "model = tf.keras.models.Sequential()\n",
    "\n",
    "model.add(tf.keras.layers.Embedding(vocab_size, 50, weights=[embedding_matrix], input_length=300 , trainable=False))\n",
    "model.add(tf.keras.layers.Flatten())\n",
    "model.add(tf.keras.layers.Dense(1, activation='sigmoid'))\n",
    "\n",
    "regressor.add(tf.keras.layers.LSTM(units = 50, return_sequences = True, input_shape = (X_train.shape[1], 1)))\n",
    "regressor.add(tf.keras.layers.Dropout(0.2))\n",
    "\n",
    "regressor.add(tf.keras.layers.LSTM(units = 50, return_sequences = True))\n",
    "regressor.add(tf.keras.layers.Dropout(0.2))\n",
    "\n",
    "regressor.add(tf.keras.layers.LSTM(units = 50, return_sequences = True))\n",
    "regressor.add(tf.keras.layers.Dropout(0.2))\n",
    "\n",
    "regressor.add(tf.keras.layers.LSTM(units = 50))\n",
    "regressor.add(tf.keras.layers.Dropout(0.2))\n",
    "\n",
    "regressor.add(tf.keras.layers.Dense(units = 1))\n",
    "\n",
    "regressor.compile(optimizer = 'adam', loss = 'mean_squared_error')\n",
    "\n",
    "regressor.fit(X_train, y_train, epochs = 100, batch_size = 32)"
   ]
  }
 ],
 "metadata": {
  "kernelspec": {
   "display_name": "Python 3.6 (tensorflow)",
   "language": "python",
   "name": "tensorflow"
  },
  "language_info": {
   "codemirror_mode": {
    "name": "ipython",
    "version": 3
   },
   "file_extension": ".py",
   "mimetype": "text/x-python",
   "name": "python",
   "nbconvert_exporter": "python",
   "pygments_lexer": "ipython3",
   "version": "3.6.8"
  }
 },
 "nbformat": 4,
 "nbformat_minor": 2
}
