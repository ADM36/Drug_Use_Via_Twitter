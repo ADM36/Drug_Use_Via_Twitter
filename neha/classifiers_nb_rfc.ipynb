{
 "cells": [
  {
   "cell_type": "markdown",
   "metadata": {},
   "source": [
    "# Classifiers - Naive Bayes and Random Forest Classifier"
   ]
  },
  {
   "cell_type": "markdown",
   "metadata": {},
   "source": [
    "### Base Models = Neha, Tuned Models = Danny"
   ]
  },
  {
   "cell_type": "code",
   "execution_count": 1,
   "metadata": {},
   "outputs": [],
   "source": [
    "import pandas as pd\n",
    "from sklearn import datasets, model_selection, svm\n",
    "from sklearn.feature_extraction.text import TfidfVectorizer, CountVectorizer\n",
    "from sklearn.naive_bayes import MultinomialNB\n",
    "from sklearn.pipeline import Pipeline, make_pipeline\n",
    "from sklearn.ensemble import RandomForestClassifier\n",
    "from sklearn.feature_extraction.text import TfidfTransformer\n",
    "from sklearn.model_selection import GridSearchCV, train_test_split"
   ]
  },
  {
   "cell_type": "markdown",
   "metadata": {},
   "source": [
    "# Neha:"
   ]
  },
  {
   "cell_type": "markdown",
   "metadata": {},
   "source": [
    "## Importing Data"
   ]
  },
  {
   "cell_type": "code",
   "execution_count": 2,
   "metadata": {},
   "outputs": [],
   "source": [
    "#cleaned and processed data using Grace's pipeline\n",
    "df_train = pd.read_csv('train_split_processed.tsv', delimiter = '\\t')\n",
    "df_test = pd.read_csv('test_split_processed.tsv', delimiter = '\\t')"
   ]
  },
  {
   "cell_type": "code",
   "execution_count": 3,
   "metadata": {},
   "outputs": [
    {
     "data": {
      "text/html": [
       "<div>\n",
       "<style scoped>\n",
       "    .dataframe tbody tr th:only-of-type {\n",
       "        vertical-align: middle;\n",
       "    }\n",
       "\n",
       "    .dataframe tbody tr th {\n",
       "        vertical-align: top;\n",
       "    }\n",
       "\n",
       "    .dataframe thead th {\n",
       "        text-align: right;\n",
       "    }\n",
       "</style>\n",
       "<table border=\"1\" class=\"dataframe\">\n",
       "  <thead>\n",
       "    <tr style=\"text-align: right;\">\n",
       "      <th></th>\n",
       "      <th>Unnamed: 0</th>\n",
       "      <th>tweet_id</th>\n",
       "      <th>adr_mention</th>\n",
       "      <th>tweet_text</th>\n",
       "    </tr>\n",
       "  </thead>\n",
       "  <tbody>\n",
       "    <tr>\n",
       "      <th>0</th>\n",
       "      <td>0</td>\n",
       "      <td>451439947401031682</td>\n",
       "      <td>0</td>\n",
       "      <td>\" \" \" well , the way i see it , you can either...</td>\n",
       "    </tr>\n",
       "    <tr>\n",
       "      <th>1</th>\n",
       "      <td>1</td>\n",
       "      <td>341735936406732801</td>\n",
       "      <td>0</td>\n",
       "      <td>if i run out of prozac i ama be pissed man ugh...</td>\n",
       "    </tr>\n",
       "    <tr>\n",
       "      <th>2</th>\n",
       "      <td>2</td>\n",
       "      <td>498679682779611136</td>\n",
       "      <td>0</td>\n",
       "      <td>my friend told me she liked nexplanon more tha...</td>\n",
       "    </tr>\n",
       "    <tr>\n",
       "      <th>3</th>\n",
       "      <td>3</td>\n",
       "      <td>349139925746192384</td>\n",
       "      <td>0</td>\n",
       "      <td>&lt;user&gt; ferry corsten &lt;/user&gt; &lt;user&gt; ferry cors...</td>\n",
       "    </tr>\n",
       "    <tr>\n",
       "      <th>4</th>\n",
       "      <td>4</td>\n",
       "      <td>349038276369330176</td>\n",
       "      <td>0</td>\n",
       "      <td>&lt;user&gt; sarah tw33ts &lt;/user&gt; i am on 40mg of fl...</td>\n",
       "    </tr>\n",
       "  </tbody>\n",
       "</table>\n",
       "</div>"
      ],
      "text/plain": [
       "   Unnamed: 0            tweet_id  adr_mention  \\\n",
       "0           0  451439947401031682            0   \n",
       "1           1  341735936406732801            0   \n",
       "2           2  498679682779611136            0   \n",
       "3           3  349139925746192384            0   \n",
       "4           4  349038276369330176            0   \n",
       "\n",
       "                                          tweet_text  \n",
       "0  \" \" \" well , the way i see it , you can either...  \n",
       "1  if i run out of prozac i ama be pissed man ugh...  \n",
       "2  my friend told me she liked nexplanon more tha...  \n",
       "3  <user> ferry corsten </user> <user> ferry cors...  \n",
       "4  <user> sarah tw33ts </user> i am on 40mg of fl...  "
      ]
     },
     "execution_count": 3,
     "metadata": {},
     "output_type": "execute_result"
    }
   ],
   "source": [
    "df_train.head()"
   ]
  },
  {
   "cell_type": "code",
   "execution_count": 4,
   "metadata": {},
   "outputs": [
    {
     "data": {
      "text/html": [
       "<div>\n",
       "<style scoped>\n",
       "    .dataframe tbody tr th:only-of-type {\n",
       "        vertical-align: middle;\n",
       "    }\n",
       "\n",
       "    .dataframe tbody tr th {\n",
       "        vertical-align: top;\n",
       "    }\n",
       "\n",
       "    .dataframe thead th {\n",
       "        text-align: right;\n",
       "    }\n",
       "</style>\n",
       "<table border=\"1\" class=\"dataframe\">\n",
       "  <thead>\n",
       "    <tr style=\"text-align: right;\">\n",
       "      <th></th>\n",
       "      <th>Unnamed: 0</th>\n",
       "      <th>tweet_id</th>\n",
       "      <th>adr_mention</th>\n",
       "      <th>tweet_text</th>\n",
       "    </tr>\n",
       "  </thead>\n",
       "  <tbody>\n",
       "    <tr>\n",
       "      <th>0</th>\n",
       "      <td>0</td>\n",
       "      <td>342260371878449153</td>\n",
       "      <td>0</td>\n",
       "      <td>&lt;user&gt; joanne __howe &lt;/user&gt; so sorry to hear ...</td>\n",
       "    </tr>\n",
       "    <tr>\n",
       "      <th>1</th>\n",
       "      <td>1</td>\n",
       "      <td>349023751842709504</td>\n",
       "      <td>0</td>\n",
       "      <td>my right hand is so weak i can not even snap m...</td>\n",
       "    </tr>\n",
       "    <tr>\n",
       "      <th>2</th>\n",
       "      <td>2</td>\n",
       "      <td>539972840117002241</td>\n",
       "      <td>0</td>\n",
       "      <td>sorry i suggested imodium for diarrhea of the ...</td>\n",
       "    </tr>\n",
       "    <tr>\n",
       "      <th>3</th>\n",
       "      <td>3</td>\n",
       "      <td>340450765535576064</td>\n",
       "      <td>0</td>\n",
       "      <td>do you know what is badass ? ciprofloxacin tha...</td>\n",
       "    </tr>\n",
       "    <tr>\n",
       "      <th>4</th>\n",
       "      <td>4</td>\n",
       "      <td>529116068196151296</td>\n",
       "      <td>0</td>\n",
       "      <td>i go out walking on lunesta &lt;hashtag&gt; classic ...</td>\n",
       "    </tr>\n",
       "  </tbody>\n",
       "</table>\n",
       "</div>"
      ],
      "text/plain": [
       "   Unnamed: 0            tweet_id  adr_mention  \\\n",
       "0           0  342260371878449153            0   \n",
       "1           1  349023751842709504            0   \n",
       "2           2  539972840117002241            0   \n",
       "3           3  340450765535576064            0   \n",
       "4           4  529116068196151296            0   \n",
       "\n",
       "                                          tweet_text  \n",
       "0  <user> joanne __howe </user> so sorry to hear ...  \n",
       "1  my right hand is so weak i can not even snap m...  \n",
       "2  sorry i suggested imodium for diarrhea of the ...  \n",
       "3  do you know what is badass ? ciprofloxacin tha...  \n",
       "4  i go out walking on lunesta <hashtag> classic ...  "
      ]
     },
     "execution_count": 4,
     "metadata": {},
     "output_type": "execute_result"
    }
   ],
   "source": [
    "df_test.head()"
   ]
  },
  {
   "cell_type": "markdown",
   "metadata": {},
   "source": [
    "## Naive Bayes Model"
   ]
  },
  {
   "cell_type": "markdown",
   "metadata": {},
   "source": [
    "### Base Model"
   ]
  },
  {
   "cell_type": "code",
   "execution_count": 5,
   "metadata": {},
   "outputs": [],
   "source": [
    "model = Pipeline(memory=None, steps=[('tfidfvectorizer', TfidfVectorizer(analyzer='word', binary=False, decode_error='strict', encoding='utf-8', input='content',\n",
    "       lowercase=True, max_df=1.0, max_features=None, min_df=1,\n",
    "       ngram_range=(1, 3), norm='l1', preprocessor=None, vocabulary=None)), ('multinomialnb', MultinomialNB(alpha=1.0, class_prior=None, fit_prior=False))])\n",
    "\n",
    "model.fit(df_train['tweet_text'], df_train['adr_mention'])\n",
    "\n",
    "labels = model.predict(df_test['tweet_text'])"
   ]
  },
  {
   "cell_type": "code",
   "execution_count": 6,
   "metadata": {},
   "outputs": [
    {
     "name": "stdout",
     "output_type": "stream",
     "text": [
      "F1: 0.004\n",
      "Precision: 1.0\n",
      "Recall: 0.002\n",
      "Accuracy: 0.906\n"
     ]
    }
   ],
   "source": [
    "# testing code using Bryan's code\n",
    "from sklearn.metrics import f1_score, precision_score, recall_score, accuracy_score\n",
    "f1 = f1_score(df_test['adr_mention'], labels)\n",
    "precision = precision_score(df_test['adr_mention'], labels)\n",
    "recall = recall_score(df_test['adr_mention'], labels)\n",
    "accuracy = accuracy_score(df_test['adr_mention'], labels)\n",
    "print('F1: {}\\nPrecision: {}\\nRecall: {}\\nAccuracy: {}'.format(round(f1,3), round(precision,3), round(recall,3), round(accuracy,3)))"
   ]
  },
  {
   "cell_type": "markdown",
   "metadata": {},
   "source": [
    "### Fine-tuned Parameters"
   ]
  },
  {
   "cell_type": "code",
   "execution_count": null,
   "metadata": {},
   "outputs": [],
   "source": [
    "model2 = Pipeline(memory=None, steps=[('tfidf', TfidfVectorizer(analyzer='word', binary=False, decode_error='strict', encoding='utf-8', input='content',\n",
    "        lowercase=True, max_df=1.0, max_features=None, min_df=1,\n",
    "        ngram_range=(1, 3), norm='l1', preprocessor=None, vocabulary=None)), ('clf', MultinomialNB(alpha=1.0, class_prior=None, fit_prior=False))])\n",
    "\n",
    "parameters = {   \n",
    "    'tfidf__use_idf': (True, False),  \n",
    "    'tfidf__sublinear_tf': (True, False),  \n",
    "    'tfidf__ngram_range': [(1,1),(1,2),(1,3)],\n",
    "    'tfidf__norm': ('l1', 'l2'),  \n",
    "    'clf__alpha': (1, 0.1, 0.01, 0.001, 0.0001, 0.00001)  \n",
    "    } \n",
    "\n",
    "model_tuned = model_selection.GridSearchCV(model2, parameters, cv = 10, n_jobs = -1)\n",
    "\n",
    "model_tuned.fit(df_train['tweet_text'], df_train['adr_mention'])\n",
    "labels2 = model_tuned.predict(df_test['tweet_text'])"
   ]
  },
  {
   "cell_type": "code",
   "execution_count": null,
   "metadata": {},
   "outputs": [],
   "source": [
    "# testing code using Bryan's code\n",
    "from sklearn.metrics import f1_score, precision_score, recall_score, accuracy_score\n",
    "f1 = f1_score(df_test['adr_mention'], labels2)\n",
    "precision = precision_score(df_test['adr_mention'], labels2)\n",
    "recall = recall_score(df_test['adr_mention'], labels2)\n",
    "accuracy = accuracy_score(df_test['adr_mention'], labels2)\n",
    "print('F1: {}\\nPrecision: {}\\nRecall: {}\\nAccuracy: {}'.format(round(f1,3), round(precision,3), round(recall,3), round(accuracy,3)))"
   ]
  },
  {
   "cell_type": "markdown",
   "metadata": {},
   "source": [
    "## Random Forest Classifier"
   ]
  },
  {
   "cell_type": "markdown",
   "metadata": {},
   "source": [
    "### Base Model"
   ]
  },
  {
   "cell_type": "code",
   "execution_count": 8,
   "metadata": {},
   "outputs": [
    {
     "name": "stderr",
     "output_type": "stream",
     "text": [
      "/anaconda3/lib/python3.7/site-packages/sklearn/ensemble/forest.py:246: FutureWarning: The default value of n_estimators will change from 10 in version 0.20 to 100 in 0.22.\n",
      "  \"10 in version 0.20 to 100 in 0.22.\", FutureWarning)\n"
     ]
    }
   ],
   "source": [
    "model3 = Pipeline(\n",
    "       [\n",
    "               ('vect', CountVectorizer(decode_error = 'ignore', strip_accents = 'unicode')),\n",
    "               ('tfidf', TfidfTransformer(use_idf = False)),\n",
    "               ('clf', RandomForestClassifier())\n",
    "               ]\n",
    "       )\n",
    "model3 = model3.fit(df_train['tweet_text'], df_train['adr_mention'])\n",
    "predicted = model3.predict(df_test['tweet_text'])"
   ]
  },
  {
   "cell_type": "code",
   "execution_count": 10,
   "metadata": {},
   "outputs": [
    {
     "name": "stdout",
     "output_type": "stream",
     "text": [
      "F1: 0.093\n",
      "Precision: 0.75\n",
      "Recall: 0.049\n",
      "Accuracy: 0.909\n"
     ]
    }
   ],
   "source": [
    "# testing code using Bryan's code\n",
    "from sklearn.metrics import f1_score, precision_score, recall_score, accuracy_score\n",
    "f1 = f1_score(df_test['adr_mention'],predicted)\n",
    "precision = precision_score(df_test['adr_mention'],predicted)\n",
    "recall = recall_score(df_test['adr_mention'],predicted)\n",
    "accuracy = accuracy_score(df_test['adr_mention'],predicted)\n",
    "print('F1: {}\\nPrecision: {}\\nRecall: {}\\nAccuracy: {}'.format(round(f1,3), round(precision,3), round(recall,3), round(accuracy,3)))"
   ]
  },
  {
   "cell_type": "markdown",
   "metadata": {},
   "source": [
    "### Fine-tuned Parameters"
   ]
  },
  {
   "cell_type": "code",
   "execution_count": 11,
   "metadata": {},
   "outputs": [
    {
     "name": "stderr",
     "output_type": "stream",
     "text": [
      "/anaconda3/lib/python3.7/site-packages/sklearn/ensemble/forest.py:246: FutureWarning: The default value of n_estimators will change from 10 in version 0.20 to 100 in 0.22.\n",
      "  \"10 in version 0.20 to 100 in 0.22.\", FutureWarning)\n"
     ]
    }
   ],
   "source": [
    "model4 = Pipeline(\n",
    "       [\n",
    "               ('vect', CountVectorizer(decode_error = 'ignore', strip_accents = 'unicode')),\n",
    "               ('tfidf', TfidfTransformer(use_idf = True)),\n",
    "               ('clf', RandomForestClassifier())\n",
    "               ]\n",
    "       )\n",
    "model4 = model4.fit(df_train['tweet_text'], df_train['adr_mention'])\n",
    "predicted = model4.predict(df_test['tweet_text'])"
   ]
  },
  {
   "cell_type": "code",
   "execution_count": 12,
   "metadata": {},
   "outputs": [
    {
     "name": "stdout",
     "output_type": "stream",
     "text": [
      "F1: 0.094\n",
      "Precision: 0.857\n",
      "Recall: 0.049\n",
      "Accuracy: 0.909\n"
     ]
    }
   ],
   "source": [
    "# testing code using Bryan's code\n",
    "from sklearn.metrics import f1_score, precision_score, recall_score, accuracy_score\n",
    "f1 = f1_score(df_test['adr_mention'],predicted)\n",
    "precision = precision_score(df_test['adr_mention'],predicted)\n",
    "recall = recall_score(df_test['adr_mention'],predicted)\n",
    "accuracy = accuracy_score(df_test['adr_mention'],predicted)\n",
    "print('F1: {}\\nPrecision: {}\\nRecall: {}\\nAccuracy: {}'.format(round(f1,3), round(precision,3), round(recall,3), round(accuracy,3)))"
   ]
  },
  {
   "cell_type": "markdown",
   "metadata": {},
   "source": [
    "# Danny:"
   ]
  },
  {
   "cell_type": "code",
   "execution_count": null,
   "metadata": {},
   "outputs": [],
   "source": []
  }
 ],
 "metadata": {
  "kernelspec": {
   "display_name": "Python 3",
   "language": "python",
   "name": "python3"
  },
  "language_info": {
   "codemirror_mode": {
    "name": "ipython",
    "version": 3
   },
   "file_extension": ".py",
   "mimetype": "text/x-python",
   "name": "python",
   "nbconvert_exporter": "python",
   "pygments_lexer": "ipython3",
   "version": "3.7.1"
  }
 },
 "nbformat": 4,
 "nbformat_minor": 2
}
