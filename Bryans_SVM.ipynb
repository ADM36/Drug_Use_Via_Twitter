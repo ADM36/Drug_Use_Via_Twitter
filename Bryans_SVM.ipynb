{
 "cells": [
  {
   "cell_type": "code",
   "execution_count": 232,
   "metadata": {},
   "outputs": [],
   "source": [
    "import pandas as pd\n",
    "from sklearn.svm import SVC\n",
    "from sklearn.feature_extraction.text import CountVectorizer\n",
    "from sklearn.feature_extraction.text import TfidfTransformer\n",
    "from sklearn.pipeline import Pipeline"
   ]
  },
  {
   "cell_type": "code",
   "execution_count": 233,
   "metadata": {},
   "outputs": [],
   "source": [
    "#baseline, this model gives F1 of 0.515\n",
    "SVM_clfr = Pipeline([\n",
    "    ('vect', CountVectorizer()),\n",
    "    ('tfidf', TfidfTransformer()),\n",
    "    ('clfr', SVC(kernel='linear', class_weight='balanced'))\n",
    "    ])\n",
    "\n",
    "#baseline w default class_weight, this model gives F1 of 0.37\n",
    "# SVM_clfr = Pipeline([\n",
    "#     ('vect', CountVectorizer()),\n",
    "#     ('tfidf', TfidfTransformer()),\n",
    "#     ('clfr', SVC(kernel='linear'))\n",
    "#     ])\n",
    "\n",
    "#baseline w class_weight of .8/.2, this model gives F1 of 0\n",
    "# SVM_clfr = Pipeline([\n",
    "#     ('vect', CountVectorizer()),\n",
    "#     ('tfidf', TfidfTransformer()),\n",
    "#     ('clfr', SVC(kernel='linear', class_weight={0:.8, 1:.2}))\n",
    "#     ])\n",
    "\n",
    "#baseline w class_weight of .2/.8, this model gives F1 of 0.502\n",
    "# SVM_clfr = Pipeline([\n",
    "#     ('vect', CountVectorizer()),\n",
    "#     ('tfidf', TfidfTransformer()),\n",
    "#     ('clfr', SVC(kernel='linear', class_weight={0:.2, 1:.8}))\n",
    "#     ])"
   ]
  },
  {
   "cell_type": "code",
   "execution_count": 234,
   "metadata": {},
   "outputs": [],
   "source": [
    "#import training & test data, these are files Danny added to GH repo\n",
    "common_train = pd.read_csv('train-split.tsv', sep = '\\t')\n",
    "common_test = pd.read_csv('test-split.tsv', sep = '\\t')"
   ]
  },
  {
   "cell_type": "code",
   "execution_count": 235,
   "metadata": {},
   "outputs": [],
   "source": [
    "#import list of drugs manually identified in train/test Tweets\n",
    "drug_list = pd.read_csv('Bryans_drug_list.csv')"
   ]
  },
  {
   "cell_type": "code",
   "execution_count": 250,
   "metadata": {},
   "outputs": [],
   "source": [
    "#funct to iterate through tweet_text & set boolean to True if drug name present, can also return the drug name\n",
    "def flag_drug(tweet_text):\n",
    "    tweet_text_lower = tweet_text.lower()\n",
    "    split_tweet_text = tweet_text_lower.split()\n",
    "    \n",
    "#     drug_flag = False\n",
    "    drug_flag = 0\n",
    "    drug = False\n",
    "    for i in split_tweet_text:\n",
    "        if i in drug_list['Lower'].values:\n",
    "#             drug_flag = True\n",
    "            drug_flag = 1\n",
    "            drug = i\n",
    "            return drug_flag\n",
    "    return drug_flag"
   ]
  },
  {
   "cell_type": "code",
   "execution_count": 251,
   "metadata": {},
   "outputs": [],
   "source": [
    "#add col to train & test to flag Tweets with drugs\n",
    "common_train['drug_flag'] = common_train['tweet_text'].apply(flag_drug)\n",
    "common_test['drug_flag'] = common_test['tweet_text'].apply(flag_drug)"
   ]
  },
  {
   "cell_type": "code",
   "execution_count": 277,
   "metadata": {},
   "outputs": [],
   "source": [
    "#fit model to training data\n",
    "SVM_clfr = SVM_clfr.fit(common_train['tweet_text'],common_train['adr_mention'])\n",
    "# SVM_clfr = SVM_clfr.fit(common_train[['tweet_text','tweet_id']],common_train['adr_mention']) #this throws a shape/# of samples error"
   ]
  },
  {
   "cell_type": "code",
   "execution_count": 278,
   "metadata": {},
   "outputs": [],
   "source": [
    "#predicting against training data until we have the train/test split available\n",
    "predicted = SVM_clfr.predict(common_test['tweet_text'])"
   ]
  },
  {
   "cell_type": "code",
   "execution_count": 279,
   "metadata": {},
   "outputs": [],
   "source": [
    "common_test['predicted_label'] = predicted"
   ]
  },
  {
   "cell_type": "code",
   "execution_count": 280,
   "metadata": {},
   "outputs": [],
   "source": [
    "from sklearn.metrics import f1_score, precision_score, recall_score, accuracy_score\n",
    "f1 = f1_score(common_test['adr_mention'],predicted)\n",
    "precision = precision_score(common_test['adr_mention'],predicted)\n",
    "recall = recall_score(common_test['adr_mention'],predicted)\n",
    "accuracy = accuracy_score(common_test['adr_mention'],predicted)"
   ]
  },
  {
   "cell_type": "code",
   "execution_count": 281,
   "metadata": {},
   "outputs": [
    {
     "name": "stdout",
     "output_type": "stream",
     "text": [
      "F1: 0.515\n",
      "Precision: 0.431\n",
      "Recall: 0.639\n",
      "Accuracy: 0.886\n"
     ]
    }
   ],
   "source": [
    "print('F1: {}\\nPrecision: {}\\nRecall: {}\\nAccuracy: {}'.format(round(f1,3), round(precision,3), round(recall,3), round(accuracy,3)))"
   ]
  },
  {
   "cell_type": "code",
   "execution_count": null,
   "metadata": {},
   "outputs": [],
   "source": []
  }
 ],
 "metadata": {
  "kernelspec": {
   "display_name": "Python 3",
   "language": "python",
   "name": "python3"
  },
  "language_info": {
   "codemirror_mode": {
    "name": "ipython",
    "version": 3
   },
   "file_extension": ".py",
   "mimetype": "text/x-python",
   "name": "python",
   "nbconvert_exporter": "python",
   "pygments_lexer": "ipython3",
   "version": "3.6.6"
  }
 },
 "nbformat": 4,
 "nbformat_minor": 2
}
