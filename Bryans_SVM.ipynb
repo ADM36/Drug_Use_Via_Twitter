{
 "cells": [
  {
   "cell_type": "code",
   "execution_count": 88,
   "metadata": {},
   "outputs": [],
   "source": [
    "import pandas as pd\n",
    "from sklearn.svm import SVC\n",
    "from sklearn.feature_extraction.text import CountVectorizer\n",
    "from sklearn.feature_extraction.text import TfidfTransformer\n",
    "from sklearn.pipeline import Pipeline"
   ]
  },
  {
   "cell_type": "code",
   "execution_count": 89,
   "metadata": {},
   "outputs": [],
   "source": [
    "#baseline, this model gives F1 of 0.515\n",
    "SVM_clfr = Pipeline([\n",
    "    ('vect', CountVectorizer()),\n",
    "    ('tfidf', TfidfTransformer()),\n",
    "    ('clfr', SVC(kernel='linear', class_weight='balanced'))\n",
    "    ])\n",
    "\n",
    "#baseline w default class_weight, this model gives F1 of 0.37\n",
    "# SVM_clfr = Pipeline([\n",
    "#     ('vect', CountVectorizer()),\n",
    "#     ('tfidf', TfidfTransformer()),\n",
    "#     ('clfr', SVC(kernel='linear'))\n",
    "#     ])\n",
    "\n",
    "#baseline w class_weight of .8/.2, this model gives F1 of 0\n",
    "# SVM_clfr = Pipeline([\n",
    "#     ('vect', CountVectorizer()),\n",
    "#     ('tfidf', TfidfTransformer()),\n",
    "#     ('clfr', SVC(kernel='linear', class_weight={0:.8, 1:.2}))\n",
    "#     ])\n",
    "\n",
    "#baseline w class_weight of .2/.8, this model gives F1 of 0.502\n",
    "# SVM_clfr = Pipeline([\n",
    "#     ('vect', CountVectorizer()),\n",
    "#     ('tfidf', TfidfTransformer()),\n",
    "#     ('clfr', SVC(kernel='linear', class_weight={0:.2, 1:.8}))\n",
    "#     ])"
   ]
  },
  {
   "cell_type": "code",
   "execution_count": 90,
   "metadata": {},
   "outputs": [],
   "source": [
    "#import training & test data, these are files Danny added to GH repo\n",
    "common_train = pd.read_csv('train-split.tsv', sep = '\\t')\n",
    "common_test = pd.read_csv('test-split.tsv', sep = '\\t')\n",
    "# common_whole = common_train.append(common_test) #just for EDA purposes"
   ]
  },
  {
   "cell_type": "code",
   "execution_count": 91,
   "metadata": {},
   "outputs": [],
   "source": [
    "#import list of drugs manually identified in train/test Tweets\n",
    "drug_list = pd.read_csv('Bryans_drug_list.csv')"
   ]
  },
  {
   "cell_type": "code",
   "execution_count": 92,
   "metadata": {},
   "outputs": [],
   "source": [
    "#funct to iterate through tweet_text & set boolean to True if drug name present, can also return the drug name\n",
    "def flag_drug(tweet_text):\n",
    "    tweet_text_lower = tweet_text.lower()\n",
    "    split_tweet_text = tweet_text_lower.split()\n",
    "    \n",
    "    drug_flag = 0\n",
    "    for i in split_tweet_text:\n",
    "        if i in drug_list['Lower'].values:\n",
    "            drug_flag = 1\n",
    "    return drug_flag"
   ]
  },
  {
   "cell_type": "code",
   "execution_count": 93,
   "metadata": {},
   "outputs": [],
   "source": [
    "#add col to train & test to flag Tweets with drugs\n",
    "common_train['drug_flag'] = common_train['tweet_text'].apply(flag_drug)\n",
    "common_test['drug_flag'] = common_test['tweet_text'].apply(flag_drug)\n",
    "# common_whole['drug_flag'] = common_whole['tweet_text'].apply(flag_drug)"
   ]
  },
  {
   "cell_type": "code",
   "execution_count": 94,
   "metadata": {},
   "outputs": [],
   "source": [
    "#funct to iterate through tweet_text & count number of drug mentions\n",
    "def drug_count(tweet_text):\n",
    "    tweet_text_lower = tweet_text.lower()\n",
    "    split_tweet_text = tweet_text_lower.split()\n",
    "    \n",
    "    drug_count = 0\n",
    "    for i in split_tweet_text:\n",
    "        if i in drug_list['Lower'].values:\n",
    "            drug_count += 1\n",
    "    return drug_count"
   ]
  },
  {
   "cell_type": "code",
   "execution_count": 95,
   "metadata": {},
   "outputs": [],
   "source": [
    "#add col to train & test with count of drug mentions in tweet\n",
    "common_train['drug_count'] = common_train['tweet_text'].apply(drug_count)\n",
    "common_test['drug_count'] = common_test['tweet_text'].apply(drug_count)\n",
    "# common_whole['drug_count'] = common_whole['tweet_text'].apply(drug_count)"
   ]
  },
  {
   "cell_type": "code",
   "execution_count": 96,
   "metadata": {},
   "outputs": [],
   "source": [
    "#import list of ADRs manually identified in train/test Tweets\n",
    "adr_list = pd.read_csv('Bryans_ADR_list.csv', encoding='utf-8')"
   ]
  },
  {
   "cell_type": "code",
   "execution_count": 97,
   "metadata": {},
   "outputs": [],
   "source": [
    "#funct to iterate through tweet_text & see if ADR present\n",
    "def find_ADR(tweet_text):\n",
    "    tweet_text_lower = tweet_text.lower()\n",
    "\n",
    "    adr_flag = 0\n",
    "    for i in adr_list['Lower'].values:\n",
    "        if i in tweet_text_lower:\n",
    "            adr_flag = 1      \n",
    "    return adr_flag"
   ]
  },
  {
   "cell_type": "code",
   "execution_count": 98,
   "metadata": {},
   "outputs": [],
   "source": [
    "#add col to train & test to flag tweets with ADRs\n",
    "common_train['adr_flag'] = common_train['tweet_text'].apply(find_ADR)\n",
    "common_test['adr_flag'] = common_test['tweet_text'].apply(find_ADR)\n",
    "# common_whole['adr_flag'] = common_whole['tweet_text'].apply(find_ADR)"
   ]
  },
  {
   "cell_type": "code",
   "execution_count": 99,
   "metadata": {},
   "outputs": [],
   "source": [
    "# #used to generate .corr heatmap\n",
    "# tweet_subset = common_whole.loc[:,['drug_flag', 'drug_count', 'adr_flag', 'adr_mention']]\n",
    "# import seaborn as sns\n",
    "# tweet_subset_matrix = tweet_subset.corr()\n",
    "# sns.heatmap(tweet_subset_matrix, annot=True);"
   ]
  },
  {
   "cell_type": "code",
   "execution_count": 100,
   "metadata": {},
   "outputs": [],
   "source": [
    "#fit model to training data\n",
    "SVM_clfr = SVM_clfr.fit(common_train['tweet_text'],common_train['adr_mention'])\n",
    "# SVM_clfr = SVM_clfr.fit(common_train[['tweet_text','tweet_id']],common_train['adr_mention']) #this throws a shape/# of samples error"
   ]
  },
  {
   "cell_type": "code",
   "execution_count": 101,
   "metadata": {},
   "outputs": [],
   "source": [
    "#predicting against training data until we have the train/test split available\n",
    "predicted = SVM_clfr.predict(common_test['tweet_text'])"
   ]
  },
  {
   "cell_type": "code",
   "execution_count": 102,
   "metadata": {},
   "outputs": [],
   "source": [
    "common_test['predicted_label'] = predicted"
   ]
  },
  {
   "cell_type": "code",
   "execution_count": 103,
   "metadata": {},
   "outputs": [],
   "source": [
    "from sklearn.metrics import f1_score, precision_score, recall_score, accuracy_score\n",
    "f1 = f1_score(common_test['adr_mention'],predicted)\n",
    "precision = precision_score(common_test['adr_mention'],predicted)\n",
    "recall = recall_score(common_test['adr_mention'],predicted)\n",
    "accuracy = accuracy_score(common_test['adr_mention'],predicted)"
   ]
  },
  {
   "cell_type": "code",
   "execution_count": 104,
   "metadata": {},
   "outputs": [
    {
     "name": "stdout",
     "output_type": "stream",
     "text": [
      "F1: 0.515\n",
      "Precision: 0.431\n",
      "Recall: 0.639\n",
      "Accuracy: 0.886\n"
     ]
    }
   ],
   "source": [
    "print('F1: {}\\nPrecision: {}\\nRecall: {}\\nAccuracy: {}'.format(round(f1,3), round(precision,3), round(recall,3), round(accuracy,3)))"
   ]
  },
  {
   "cell_type": "code",
   "execution_count": null,
   "metadata": {},
   "outputs": [],
   "source": []
  }
 ],
 "metadata": {
  "kernelspec": {
   "display_name": "Python 3",
   "language": "python",
   "name": "python3"
  },
  "language_info": {
   "codemirror_mode": {
    "name": "ipython",
    "version": 3
   },
   "file_extension": ".py",
   "mimetype": "text/x-python",
   "name": "python",
   "nbconvert_exporter": "python",
   "pygments_lexer": "ipython3",
   "version": "3.6.6"
  }
 },
 "nbformat": 4,
 "nbformat_minor": 2
}
